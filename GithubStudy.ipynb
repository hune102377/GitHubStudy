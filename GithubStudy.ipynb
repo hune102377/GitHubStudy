{
 "cells": [
  {
   "cell_type": "markdown",
   "metadata": {},
   "source": [
    "## 깃허브 공부\n",
    "\n",
    "---"
   ]
  },
  {
   "cell_type": "markdown",
   "metadata": {},
   "source": [
    "깃허브는 단순한 저장공간이 아닌 오픈소스에 기여하는 사이트  \n",
    "\n",
    "단순한 코드뿐만 아니라 코드의 변경 내역도 저장하고 가져올 수 있음"
   ]
  },
  {
   "cell_type": "markdown",
   "metadata": {},
   "source": [
    "---\n",
    "\n",
    "git pull : 비행기 착륙  \n",
    "git add : 승객 탑승  \n",
    "git commit : 비행기 이륙 준비  \n",
    "git push : 비행기 이륙"
   ]
  },
  {
   "cell_type": "markdown",
   "metadata": {},
   "source": [
    "---\n",
    "\n",
    "- 레포지터리 :  \n",
    "\n",
    "- Add file > Create new file 을 통해 새로운 폴더를 생성할 수 있음  \n",
    "* 단, 빈 폴더는 생성하지 않기 때문에 임의의 파일을 생성해줘야 됨  \n",
    "\n"
   ]
  },
  {
   "cell_type": "markdown",
   "metadata": {},
   "source": [
    "---\n",
    "\n",
    "git clone : 원격 저장소에 업데이트 된 데이터를 가져오고 병합할 때 사용  \n",
    "git add :\n",
    "git commit : \n",
    "git push : "
   ]
  }
 ],
 "metadata": {
  "language_info": {
   "name": "python"
  },
  "orig_nbformat": 4
 },
 "nbformat": 4,
 "nbformat_minor": 2
}
